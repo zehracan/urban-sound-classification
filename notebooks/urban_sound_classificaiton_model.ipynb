{
 "cells": [
  {
   "cell_type": "code",
   "execution_count": 1,
   "id": "c02cb5c0",
   "metadata": {},
   "outputs": [],
   "source": [
    "import numpy as np\n",
    "import tensorflow as tf\n",
    "from tensorflow import keras\n",
    "from tensorflow.keras.models import Sequential\n",
    "from tensorflow.keras.layers import Dense,Dropout,Activation,Flatten, Conv2D, Input, MaxPooling2D\n",
    "from tensorflow.keras.models import Model\n",
    "from tensorflow.keras.optimizers import Adam\n",
    "from sklearn import metrics"
   ]
  },
  {
   "cell_type": "code",
   "execution_count": 2,
   "id": "99520687",
   "metadata": {},
   "outputs": [],
   "source": [
    "X_train = np.load(r\"C:\\Users\\asus\\Desktop\\spectrograms\\data\\X_train.npy\")\n",
    "X_test = np.load(r\"C:\\Users\\asus\\Desktop\\spectrograms\\data\\X_test.npy\")\n",
    "y_train = np.load(r\"C:\\Users\\asus\\Desktop\\spectrograms\\data\\y_train.npy\")\n",
    "y_test = np.load(r\"C:\\Users\\asus\\Desktop\\spectrograms\\data\\y_test.npy\")\n",
    "X_val = np.load(r\"C:\\Users\\asus\\Desktop\\spectrograms\\data\\X_val.npy\")\n",
    "y_val = np.load(r\"C:\\Users\\asus\\Desktop\\spectrograms\\data\\y_val.npy\")"
   ]
  },
  {
   "cell_type": "code",
   "execution_count": 3,
   "id": "52975997",
   "metadata": {},
   "outputs": [
    {
     "data": {
      "text/plain": [
       "(5238, 10)"
      ]
     },
     "execution_count": 3,
     "metadata": {},
     "output_type": "execute_result"
    }
   ],
   "source": [
    "y_train.shape"
   ]
  },
  {
   "cell_type": "code",
   "execution_count": 4,
   "id": "a46e1a6c",
   "metadata": {},
   "outputs": [],
   "source": [
    "IMAGE_HEIGHT = 128\n",
    "IMAGE_WIDTH = 128\n",
    "IMAGE_CHANNELS = 1\n",
    "num_labels = y_train.shape[1]\n",
    "num_filters = [24,32,64,128] \n",
    "pool_size = (2, 2) \n",
    "kernel_size = (3, 3) \n",
    "input_shape = (IMAGE_HEIGHT, IMAGE_WIDTH, IMAGE_CHANNELS)"
   ]
  },
  {
   "cell_type": "code",
   "execution_count": 11,
   "id": "a678a3f1",
   "metadata": {},
   "outputs": [],
   "source": [
    "\n",
    "    \n",
    "model = keras.models.Sequential()\n",
    "model.add(keras.layers.Conv2D(16, kernel_size,padding=\"same\", input_shape=input_shape))\n",
    "model.add(keras.layers.BatchNormalization())\n",
    "model.add(keras.layers.Activation(\"relu\"))\n",
    "model.add(keras.layers.MaxPooling2D(pool_size=pool_size))\n",
    "\n",
    "model.add(keras.layers.Conv2D(32, kernel_size,padding=\"same\"))\n",
    "model.add(keras.layers.BatchNormalization())\n",
    "model.add(keras.layers.Activation(\"relu\"))  \n",
    "model.add(keras.layers.MaxPooling2D(pool_size=pool_size))\n",
    "    \n",
    "model.add(keras.layers.Conv2D(64, kernel_size,padding=\"same\"))\n",
    "model.add(keras.layers.Activation(\"relu\"))  \n",
    "model.add(keras.layers.MaxPooling2D(pool_size=pool_size))\n",
    "    \n",
    "model.add(keras.layers.Conv2D(128, kernel_size,padding=\"same\"))\n",
    "model.add(keras.layers.BatchNormalization())\n",
    "model.add(keras.layers.Activation(\"relu\"))  \n",
    "model.add(keras.layers.Dense(128, activation=\"relu\"))\n",
    "\n",
    "model.add(keras.layers.Flatten())\n",
    "model.add(keras.layers.Dense(num_labels, activation=\"softmax\"))\n",
    "model.compile(optimizer=keras.optimizers.Adam(1e-4), \n",
    "        loss=keras.losses.CategoricalCrossentropy(), \n",
    "        metrics=[\"accuracy\"])"
   ]
  },
  {
   "cell_type": "code",
   "execution_count": 12,
   "id": "8838971c",
   "metadata": {},
   "outputs": [
    {
     "name": "stdout",
     "output_type": "stream",
     "text": [
      "Model: \"sequential_1\"\n",
      "_________________________________________________________________\n",
      " Layer (type)                Output Shape              Param #   \n",
      "=================================================================\n",
      " conv2d_4 (Conv2D)           (None, 128, 128, 16)      160       \n",
      "                                                                 \n",
      " batch_normalization_4 (Batc  (None, 128, 128, 16)     64        \n",
      " hNormalization)                                                 \n",
      "                                                                 \n",
      " activation_4 (Activation)   (None, 128, 128, 16)      0         \n",
      "                                                                 \n",
      " max_pooling2d_3 (MaxPooling  (None, 64, 64, 16)       0         \n",
      " 2D)                                                             \n",
      "                                                                 \n",
      " conv2d_5 (Conv2D)           (None, 64, 64, 32)        4640      \n",
      "                                                                 \n",
      " batch_normalization_5 (Batc  (None, 64, 64, 32)       128       \n",
      " hNormalization)                                                 \n",
      "                                                                 \n",
      " activation_5 (Activation)   (None, 64, 64, 32)        0         \n",
      "                                                                 \n",
      " max_pooling2d_4 (MaxPooling  (None, 32, 32, 32)       0         \n",
      " 2D)                                                             \n",
      "                                                                 \n",
      " conv2d_6 (Conv2D)           (None, 32, 32, 64)        18496     \n",
      "                                                                 \n",
      " activation_6 (Activation)   (None, 32, 32, 64)        0         \n",
      "                                                                 \n",
      " max_pooling2d_5 (MaxPooling  (None, 16, 16, 64)       0         \n",
      " 2D)                                                             \n",
      "                                                                 \n",
      " conv2d_7 (Conv2D)           (None, 16, 16, 128)       73856     \n",
      "                                                                 \n",
      " batch_normalization_6 (Batc  (None, 16, 16, 128)      512       \n",
      " hNormalization)                                                 \n",
      "                                                                 \n",
      " activation_7 (Activation)   (None, 16, 16, 128)       0         \n",
      "                                                                 \n",
      " dense_2 (Dense)             (None, 16, 16, 128)       16512     \n",
      "                                                                 \n",
      " flatten_1 (Flatten)         (None, 32768)             0         \n",
      "                                                                 \n",
      " dense_3 (Dense)             (None, 10)                327690    \n",
      "                                                                 \n",
      "=================================================================\n",
      "Total params: 442,058\n",
      "Trainable params: 441,706\n",
      "Non-trainable params: 352\n",
      "_________________________________________________________________\n"
     ]
    }
   ],
   "source": [
    "model.summary()"
   ]
  },
  {
   "cell_type": "code",
   "execution_count": 13,
   "id": "654a0d94",
   "metadata": {},
   "outputs": [],
   "source": [
    "EPOCHS = 25\n",
    "BATCH_SIZE  = 32"
   ]
  },
  {
   "cell_type": "code",
   "execution_count": 14,
   "id": "52e2fdfe",
   "metadata": {
    "scrolled": false
   },
   "outputs": [
    {
     "name": "stdout",
     "output_type": "stream",
     "text": [
      "Epoch 1/25\n",
      "100/100 [==============================] - 5s 39ms/step - loss: 1.3650 - accuracy: 0.5319 - val_loss: 2.4431 - val_accuracy: 0.0985\n",
      "Epoch 2/25\n",
      "100/100 [==============================] - 4s 37ms/step - loss: 0.8420 - accuracy: 0.7238 - val_loss: 2.9057 - val_accuracy: 0.0469\n",
      "Epoch 3/25\n",
      "100/100 [==============================] - 4s 35ms/step - loss: 0.6456 - accuracy: 0.7941 - val_loss: 2.8807 - val_accuracy: 0.1145\n",
      "Epoch 4/25\n",
      "100/100 [==============================] - 4s 37ms/step - loss: 0.5044 - accuracy: 0.8539 - val_loss: 2.3599 - val_accuracy: 0.2799\n",
      "Epoch 5/25\n",
      "100/100 [==============================] - 4s 36ms/step - loss: 0.4292 - accuracy: 0.8715 - val_loss: 1.7120 - val_accuracy: 0.4442\n",
      "Epoch 6/25\n",
      "100/100 [==============================] - 4s 37ms/step - loss: 0.3256 - accuracy: 0.9081 - val_loss: 1.1081 - val_accuracy: 0.6251\n",
      "Epoch 7/25\n",
      "100/100 [==============================] - 4s 41ms/step - loss: 0.2776 - accuracy: 0.9229 - val_loss: 0.5935 - val_accuracy: 0.8346\n",
      "Epoch 8/25\n",
      "100/100 [==============================] - 4s 36ms/step - loss: 0.2291 - accuracy: 0.9391 - val_loss: 0.5493 - val_accuracy: 0.8397\n",
      "Epoch 9/25\n",
      "100/100 [==============================] - 4s 36ms/step - loss: 0.1750 - accuracy: 0.9602 - val_loss: 0.5444 - val_accuracy: 0.8346\n",
      "Epoch 10/25\n",
      "100/100 [==============================] - 4s 36ms/step - loss: 0.1502 - accuracy: 0.9633 - val_loss: 0.5028 - val_accuracy: 0.8603\n",
      "Epoch 11/25\n",
      "100/100 [==============================] - 4s 37ms/step - loss: 0.1237 - accuracy: 0.9753 - val_loss: 0.4457 - val_accuracy: 0.8861\n",
      "Epoch 12/25\n",
      "100/100 [==============================] - 4s 36ms/step - loss: 0.1022 - accuracy: 0.9818 - val_loss: 0.4499 - val_accuracy: 0.8786\n",
      "Epoch 13/25\n",
      "100/100 [==============================] - 4s 37ms/step - loss: 0.0917 - accuracy: 0.9844 - val_loss: 0.4611 - val_accuracy: 0.8752\n",
      "Epoch 14/25\n",
      "100/100 [==============================] - 4s 37ms/step - loss: 0.0666 - accuracy: 0.9915 - val_loss: 0.4714 - val_accuracy: 0.8758\n",
      "Epoch 15/25\n",
      "100/100 [==============================] - 4s 36ms/step - loss: 0.0689 - accuracy: 0.9884 - val_loss: 0.4868 - val_accuracy: 0.8609\n",
      "Epoch 16/25\n",
      "100/100 [==============================] - 4s 36ms/step - loss: 0.0529 - accuracy: 0.9959 - val_loss: 0.4810 - val_accuracy: 0.8712\n",
      "Epoch 17/25\n",
      "100/100 [==============================] - 4s 37ms/step - loss: 0.0492 - accuracy: 0.9953 - val_loss: 0.4557 - val_accuracy: 0.8689\n",
      "Epoch 18/25\n",
      "100/100 [==============================] - 4s 37ms/step - loss: 0.0405 - accuracy: 0.9956 - val_loss: 0.5148 - val_accuracy: 0.8643\n",
      "Epoch 19/25\n",
      "100/100 [==============================] - 4s 36ms/step - loss: 0.0320 - accuracy: 0.9984 - val_loss: 0.4344 - val_accuracy: 0.8878\n",
      "Epoch 20/25\n",
      "100/100 [==============================] - 4s 36ms/step - loss: 0.0270 - accuracy: 0.9969 - val_loss: 0.4709 - val_accuracy: 0.8821\n",
      "Epoch 21/25\n",
      "100/100 [==============================] - 4s 37ms/step - loss: 0.0289 - accuracy: 0.9969 - val_loss: 0.4693 - val_accuracy: 0.8792\n",
      "Epoch 22/25\n",
      "100/100 [==============================] - 4s 37ms/step - loss: 0.0224 - accuracy: 0.9981 - val_loss: 0.5176 - val_accuracy: 0.8620\n",
      "Epoch 23/25\n",
      "100/100 [==============================] - 4s 36ms/step - loss: 0.0218 - accuracy: 0.9981 - val_loss: 0.4657 - val_accuracy: 0.8844\n",
      "Epoch 24/25\n",
      "100/100 [==============================] - 4s 36ms/step - loss: 0.0170 - accuracy: 0.9994 - val_loss: 0.5297 - val_accuracy: 0.8598\n",
      "Epoch 25/25\n",
      "100/100 [==============================] - 4s 36ms/step - loss: 0.0192 - accuracy: 0.9994 - val_loss: 0.4647 - val_accuracy: 0.8838\n"
     ]
    }
   ],
   "source": [
    "history = model.fit(X_train, y_train,\n",
    "                    epochs=EPOCHS,\n",
    "                    batch_size = BATCH_SIZE,\n",
    "                    validation_data=(X_val, y_val), \n",
    "                    steps_per_epoch= 100)"
   ]
  },
  {
   "cell_type": "code",
   "execution_count": 15,
   "id": "56cc2c72",
   "metadata": {},
   "outputs": [
    {
     "data": {
      "text/plain": [
       "Text(0.5, 1.0, 'Training and Validation Accuracy')"
      ]
     },
     "execution_count": 15,
     "metadata": {},
     "output_type": "execute_result"
    },
    {
     "data": {
      "image/png": "[encoded data removed]",
      "text/plain": [
       "<Figure size 576x576 with 1 Axes>"
      ]
     },
     "metadata": {
      "needs_background": "light"
     },
     "output_type": "display_data"
    }
   ],
   "source": [
    "import matplotlib.pyplot as plt\n",
    "\n",
    "acc = history.history['accuracy']\n",
    "val_acc = history.history['val_accuracy']\n",
    "\n",
    "loss = history.history['loss']\n",
    "val_loss = history.history['val_loss']\n",
    "\n",
    "plt.figure(figsize=(8, 8))\n",
    "\n",
    "plt.plot(acc, label='Training Accuracy')\n",
    "plt.plot(val_acc, label='Validation Accuracy')\n",
    "plt.legend(loc='lower right')\n",
    "plt.ylabel('Accuracy')\n",
    "plt.ylim([min(plt.ylim()),1])\n",
    "plt.title('Training and Validation Accuracy')\n"
   ]
  },
  {
   "cell_type": "code",
   "execution_count": 16,
   "id": "a023f7c1",
   "metadata": {},
   "outputs": [
    {
     "name": "stdout",
     "output_type": "stream",
     "text": [
      "55/55 [==============================] - 1s 14ms/step - loss: 0.4003 - accuracy: 0.8884\n",
      "Test accuracy : 0.8883800506591797\n"
     ]
    }
   ],
   "source": [
    "loss, accuracy = model.evaluate(X_test, y_test)\n",
    "print('Test accuracy :', accuracy)"
   ]
  }
 ],
 "metadata": {
  "kernelspec": {
   "display_name": "Python 3 (ipykernel)",
   "language": "python",
   "name": "python3"
  },
  "language_info": {
   "codemirror_mode": {
    "name": "ipython",
    "version": 3
   },
   "file_extension": ".py",
   "mimetype": "text/x-python",
   "name": "python",
   "nbconvert_exporter": "python",
   "pygments_lexer": "ipython3",
   "version": "3.8.13"
  }
 },
 "nbformat": 4,
 "nbformat_minor": 5
}
